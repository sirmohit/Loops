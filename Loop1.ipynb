{
 "cells": [
  {
   "cell_type": "code",
   "execution_count": 2,
   "id": "b2319732-579a-4ec7-a3c7-cb3e9f81972f",
   "metadata": {},
   "outputs": [
    {
     "name": "stdout",
     "output_type": "stream",
     "text": [
      "1 <class 'int'>\n",
      "2 <class 'int'>\n",
      "3 <class 'int'>\n",
      "4 <class 'int'>\n",
      "5 <class 'int'>\n"
     ]
    }
   ],
   "source": [
    "l=[1,2,3,4,5]\n",
    "for i in l:\n",
    "    print(i , type(i))"
   ]
  },
  {
   "cell_type": "code",
   "execution_count": 3,
   "id": "8dc32067-e3c8-4adf-a501-16d9efba095b",
   "metadata": {},
   "outputs": [
    {
     "name": "stdout",
     "output_type": "stream",
     "text": [
      "mohit\n",
      "bhade\n",
      "aniket\n",
      "pawar\n"
     ]
    }
   ],
   "source": [
    "l1=[\"mohit\",\"bhade\",\"aniket\",\"pawar\"]\n",
    "for i in l1:\n",
    "    print(i)"
   ]
  },
  {
   "cell_type": "code",
   "execution_count": 4,
   "id": "493efc3d-405e-4596-b3e0-fa01fc013fca",
   "metadata": {},
   "outputs": [
    {
     "name": "stdout",
     "output_type": "stream",
     "text": [
      "mohit\n",
      "bhade\n",
      "aniket\n",
      "pawar\n",
      "else block will only execute when for loop gets completed\n"
     ]
    }
   ],
   "source": [
    "# FOR ELSE : PYTHON PROVIDE for else also\n",
    "for i in l1:\n",
    "    print(i)\n",
    "else:\n",
    "    print(\"else block will only execute when for loop gets completed\")\n"
   ]
  },
  {
   "cell_type": "code",
   "execution_count": 7,
   "id": "eda875b4-6030-45c8-b888-10fd508dbebc",
   "metadata": {},
   "outputs": [
    {
     "name": "stdout",
     "output_type": "stream",
     "text": [
      "mohit\n",
      "bhade\n"
     ]
    }
   ],
   "source": [
    "# BREAK : IT WILL BREAK THE  LOOP  FOR THE GIVEN CONDITION IS GET MATCH\n",
    "for i in l1 :\n",
    "    if i==\"aniket\":\n",
    "        break\n",
    "    print(i)"
   ]
  },
  {
   "cell_type": "code",
   "execution_count": 22,
   "id": "7d9a8a6c-8813-4d7a-8277-fa9783b0afc3",
   "metadata": {},
   "outputs": [
    {
     "data": {
      "text/plain": [
       "4"
      ]
     },
     "execution_count": 22,
     "metadata": {},
     "output_type": "execute_result"
    }
   ],
   "source": [
    "l1\n",
    "len(l1)"
   ]
  },
  {
   "cell_type": "code",
   "execution_count": 9,
   "id": "46a45b4b-4e1c-449b-9179-811e2d6d627b",
   "metadata": {},
   "outputs": [
    {
     "name": "stdout",
     "output_type": "stream",
     "text": [
      "mohit\n"
     ]
    }
   ],
   "source": [
    "for i in l1:\n",
    "    if i == \"bhade\":\n",
    "        break\n",
    "    print(i)\n",
    "else:\n",
    "    print(\"execute else if for loop gets completed\")"
   ]
  },
  {
   "cell_type": "code",
   "execution_count": 10,
   "id": "e3e7d54b-c9ba-4a34-a3d1-b81ad662fe77",
   "metadata": {},
   "outputs": [
    {
     "data": {
      "text/plain": [
       "['mohit', 'bhade', 'aniket', 'pawar']"
      ]
     },
     "execution_count": 10,
     "metadata": {},
     "output_type": "execute_result"
    }
   ],
   "source": [
    "l1"
   ]
  },
  {
   "cell_type": "code",
   "execution_count": 11,
   "id": "e9c014b4-02b6-4983-829b-b00d41ba17df",
   "metadata": {},
   "outputs": [
    {
     "name": "stdout",
     "output_type": "stream",
     "text": [
      "mohit\n",
      "bhade\n",
      "pawar\n"
     ]
    }
   ],
   "source": [
    "# CONTINUE : IT WILL SKIP THE PARTICULAR STATEMENT IN THE LOOP\n",
    "for i in l1 :\n",
    "    if i==\"aniket\":\n",
    "        continue\n",
    "    print(i)"
   ]
  },
  {
   "cell_type": "code",
   "execution_count": 13,
   "id": "8b2e5bc8-fda2-4363-8d87-0593c1a2db0a",
   "metadata": {},
   "outputs": [
    {
     "data": {
      "text/plain": [
       "['mohit', 'bhade', 'aniket', 'pawar']"
      ]
     },
     "execution_count": 13,
     "metadata": {},
     "output_type": "execute_result"
    }
   ],
   "source": [
    "l1"
   ]
  },
  {
   "cell_type": "code",
   "execution_count": 15,
   "id": "e9c5132b-299f-4888-9f02-0705de3404b7",
   "metadata": {},
   "outputs": [
    {
     "name": "stdout",
     "output_type": "stream",
     "text": [
      "mohit\n",
      "aniket\n",
      "pawar\n",
      "execute else if for loop gets completed\n"
     ]
    }
   ],
   "source": [
    "for i in l1:\n",
    "    if i == \"bhade\":\n",
    "        continue\n",
    "    print(i)\n",
    "else:\n",
    "    print(\"execute else if for loop gets completed\")"
   ]
  },
  {
   "cell_type": "code",
   "execution_count": 16,
   "id": "58b3bb0e-b8dc-4f47-9a1e-f9aa7b3b8361",
   "metadata": {},
   "outputs": [
    {
     "data": {
      "text/plain": [
       "range(0, 5)"
      ]
     },
     "execution_count": 16,
     "metadata": {},
     "output_type": "execute_result"
    }
   ],
   "source": [
    "#RANGE FUNCTION : Return an object that produces a sequence of integers from start (inclusive)\n",
    "#to stop (exclusive) by step.  range(i, j) produces i, i+1, i+2, ..., j-1.\n",
    "#start defaults to 0, and stop is omitted!  range(4) produces 0, 1, 2, 3.\n",
    "#These are exactly the valid indices for a list of 4 elements.\n",
    "#When step is given, it specifies the increment (or decrement)\n",
    "#range()\n",
    "\n",
    "range(5)"
   ]
  },
  {
   "cell_type": "code",
   "execution_count": 17,
   "id": "8fc03d8e-f601-48e0-97ca-8fb68977a706",
   "metadata": {},
   "outputs": [
    {
     "data": {
      "text/plain": [
       "[0, 1, 2, 3, 4, 5, 6, 7, 8, 9]"
      ]
     },
     "execution_count": 17,
     "metadata": {},
     "output_type": "execute_result"
    }
   ],
   "source": [
    "list(range(10))"
   ]
  },
  {
   "cell_type": "code",
   "execution_count": 18,
   "id": "ea2690df-726e-4ca8-aea5-49e5dfef7a25",
   "metadata": {},
   "outputs": [
    {
     "data": {
      "text/plain": [
       "[0, 2, 4, 6, 8, 10, 12, 14, 16, 18]"
      ]
     },
     "execution_count": 18,
     "metadata": {},
     "output_type": "execute_result"
    }
   ],
   "source": [
    "list(range(0,20,2)) "
   ]
  },
  {
   "cell_type": "code",
   "execution_count": 19,
   "id": "a33f891c-c532-4bea-be87-a46d871db414",
   "metadata": {},
   "outputs": [
    {
     "data": {
      "text/plain": [
       "[-10, -9, -8, -7, -6, -5, -4, -3, -2, -1]"
      ]
     },
     "execution_count": 19,
     "metadata": {},
     "output_type": "execute_result"
    }
   ],
   "source": [
    "list(range(-10,0))"
   ]
  },
  {
   "cell_type": "code",
   "execution_count": 20,
   "id": "4bcc1bc7-f4c1-451d-adb9-cb45b7ee57b7",
   "metadata": {},
   "outputs": [
    {
     "data": {
      "text/plain": [
       "['mohit', 'bhade', 'aniket', 'pawar']"
      ]
     },
     "execution_count": 20,
     "metadata": {},
     "output_type": "execute_result"
    }
   ],
   "source": [
    "l1"
   ]
  },
  {
   "cell_type": "code",
   "execution_count": 26,
   "id": "491e97de-42cc-447b-a98b-673bb7095a01",
   "metadata": {},
   "outputs": [
    {
     "data": {
      "text/plain": [
       "[3, 2, 1, 0]"
      ]
     },
     "execution_count": 26,
     "metadata": {},
     "output_type": "execute_result"
    }
   ],
   "source": [
    "# PRINT THE LIST IN REVERSE ORDER USING RANGE FUNCTION\n",
    "list(range(len(l1)))\n",
    "list(range(len(l1)-1,-1,-1))"
   ]
  },
  {
   "cell_type": "code",
   "execution_count": 28,
   "id": "084d2c5c-7d25-4342-89eb-9ad0549640b7",
   "metadata": {},
   "outputs": [
    {
     "name": "stdout",
     "output_type": "stream",
     "text": [
      "pawar\n",
      "aniket\n",
      "bhade\n",
      "mohit\n"
     ]
    }
   ],
   "source": [
    "for i in range(len(l1)-1,-1,-1):\n",
    "    print(l1[i])"
   ]
  },
  {
   "cell_type": "code",
   "execution_count": 33,
   "id": "c07a3f60-3a66-44b8-b2b7-60653fc42885",
   "metadata": {},
   "outputs": [
    {
     "data": {
      "text/plain": [
       "[0, 2, 4, 6, 8, 10]"
      ]
     },
     "execution_count": 33,
     "metadata": {},
     "output_type": "execute_result"
    }
   ],
   "source": [
    "l2=[1,2,33,4,32,43,5,46,567,54,34,]\n",
    "list(range(0,len(l2),2))"
   ]
  },
  {
   "cell_type": "code",
   "execution_count": 34,
   "id": "99dc4fa5-f97c-49a3-b429-4ab7f6f23ed4",
   "metadata": {},
   "outputs": [
    {
     "name": "stdout",
     "output_type": "stream",
     "text": [
      "1\n",
      "33\n",
      "32\n",
      "5\n",
      "567\n",
      "34\n"
     ]
    }
   ],
   "source": [
    "#print even places digit\n",
    "l2=[1,2,33,4,32,43,5,46,567,54,34,]\n",
    "for i in range(0,len(l2),2):\n",
    "    print(l2[i])"
   ]
  },
  {
   "cell_type": "code",
   "execution_count": 35,
   "id": "4cde489d-e191-4dbd-902f-0eff1e17cb78",
   "metadata": {},
   "outputs": [
    {
     "name": "stdout",
     "output_type": "stream",
     "text": [
      "2\n",
      "4\n",
      "43\n",
      "46\n",
      "54\n"
     ]
    }
   ],
   "source": [
    "#print odd places digit\n",
    "l2=[1,2,33,4,32,43,5,46,567,54,34,]\n",
    "for i in range(1,len(l2),2):\n",
    "    print(l2[i])"
   ]
  },
  {
   "cell_type": "code",
   "execution_count": 42,
   "id": "125c700a-61d3-4f54-bf27-0ff47e5f383f",
   "metadata": {},
   "outputs": [
    {
     "ename": "TypeError",
     "evalue": "'int' object is not callable",
     "output_type": "error",
     "traceback": [
      "\u001b[0;31m---------------------------------------------------------------------------\u001b[0m",
      "\u001b[0;31mTypeError\u001b[0m                                 Traceback (most recent call last)",
      "Cell \u001b[0;32mIn[42], line 3\u001b[0m\n\u001b[1;32m      1\u001b[0m \u001b[38;5;66;03m#sum of digits in the list\u001b[39;00m\n\u001b[1;32m      2\u001b[0m l2\u001b[38;5;241m=\u001b[39m[\u001b[38;5;241m1\u001b[39m,\u001b[38;5;241m2\u001b[39m,\u001b[38;5;241m33\u001b[39m,\u001b[38;5;241m4\u001b[39m,\u001b[38;5;241m32\u001b[39m,\u001b[38;5;241m43\u001b[39m,\u001b[38;5;241m5\u001b[39m,\u001b[38;5;241m46\u001b[39m,\u001b[38;5;241m567\u001b[39m,\u001b[38;5;241m54\u001b[39m,\u001b[38;5;241m34\u001b[39m]\n\u001b[0;32m----> 3\u001b[0m \u001b[38;5;28;43msum\u001b[39;49m\u001b[43m(\u001b[49m\u001b[43ml2\u001b[49m\u001b[43m)\u001b[49m\n",
      "\u001b[0;31mTypeError\u001b[0m: 'int' object is not callable"
     ]
    }
   ],
   "source": [
    "#sum of digits in the list\n",
    "l2=[1,2,33,4,32,43,5,46,567,54,34]\n",
    "sum(l2)"
   ]
  },
  {
   "cell_type": "code",
   "execution_count": 40,
   "id": "05f7cc4e-b695-4f39-a526-562bf2f1622a",
   "metadata": {},
   "outputs": [
    {
     "name": "stdout",
     "output_type": "stream",
     "text": [
      "821\n"
     ]
    }
   ],
   "source": [
    "su=0\n",
    "l2=[1,2,33,4,32,43,5,46,567,54,34]\n",
    "for i in range(0,len(l2),1):\n",
    "    su=su+l2[i]\n",
    "print(su)"
   ]
  },
  {
   "cell_type": "code",
   "execution_count": 43,
   "id": "2e53b510-ddd3-4ec8-ad3f-c9cb60e70053",
   "metadata": {},
   "outputs": [
    {
     "name": "stdout",
     "output_type": "stream",
     "text": [
      "1\n",
      "(34+3j)\n",
      "mohit\n",
      "123.23\n",
      "False\n",
      "[1, 2, 3]\n"
     ]
    }
   ],
   "source": [
    "tp=(1,34+3j,\"mohit\",123.23,False,[1,2,3])\n",
    "for i in range(0,len(tp),1):\n",
    "    print(tp[i])"
   ]
  },
  {
   "cell_type": "code",
   "execution_count": 50,
   "id": "ef683d5e-c123-4824-808d-693ad4b0f519",
   "metadata": {},
   "outputs": [
    {
     "name": "stdout",
     "output_type": "stream",
     "text": [
      "False\n",
      "1\n",
      "2\n",
      "3\n",
      "10\n",
      "(34+3j)\n",
      "mohit\n",
      "123.23\n"
     ]
    }
   ],
   "source": [
    "tp1={1,10,34+3j,\"mohit\",123.23,False,1,2,3}\n",
    "for i in tp1:\n",
    "    print(i)\n"
   ]
  },
  {
   "cell_type": "code",
   "execution_count": 51,
   "id": "ca45bfbc-30db-437e-97bf-0ee1611a2b6d",
   "metadata": {},
   "outputs": [
    {
     "name": "stdout",
     "output_type": "stream",
     "text": [
      "m\n",
      "o\n",
      "h\n",
      "i\n",
      "t\n"
     ]
    }
   ],
   "source": [
    "m=\"mohit\"\n",
    "for i in m:\n",
    "    print(i)"
   ]
  },
  {
   "cell_type": "code",
   "execution_count": 52,
   "id": "e04ec411-a120-4849-8412-116ef82c963b",
   "metadata": {},
   "outputs": [],
   "source": [
    "d5={\"num\":[1,2,3,4,5],\"assingment\":(12,34,56),\"launch date\":{12:\"dsa\",31:\"data science\",2:\"java\"}}"
   ]
  },
  {
   "cell_type": "code",
   "execution_count": 53,
   "id": "c03a78ec-d8d0-42b9-aa70-11b251fe8723",
   "metadata": {},
   "outputs": [
    {
     "data": {
      "text/plain": [
       "{'num': [1, 2, 3, 4, 5],\n",
       " 'assingment': (12, 34, 56),\n",
       " 'launch date': {12: 'dsa', 31: 'data science', 2: 'java'}}"
      ]
     },
     "execution_count": 53,
     "metadata": {},
     "output_type": "execute_result"
    }
   ],
   "source": [
    "d5"
   ]
  },
  {
   "cell_type": "code",
   "execution_count": 55,
   "id": "76a0a572-9ddb-4940-9f48-d8daccd86b66",
   "metadata": {},
   "outputs": [
    {
     "name": "stdout",
     "output_type": "stream",
     "text": [
      "num\n",
      "assingment\n",
      "launch date\n"
     ]
    }
   ],
   "source": [
    "for i in d5.keys():\n",
    "    print(i)"
   ]
  },
  {
   "cell_type": "code",
   "execution_count": 56,
   "id": "2e75f293-e74b-474e-9d6d-bf7a23327fe2",
   "metadata": {},
   "outputs": [
    {
     "data": {
      "text/plain": [
       "{'num': [1, 2, 3, 4, 5],\n",
       " 'assingment': (12, 34, 56),\n",
       " 'launch date': {12: 'dsa', 31: 'data science', 2: 'java'}}"
      ]
     },
     "execution_count": 56,
     "metadata": {},
     "output_type": "execute_result"
    }
   ],
   "source": [
    "d5"
   ]
  },
  {
   "cell_type": "code",
   "execution_count": 57,
   "id": "68708f15-df4a-4336-9ea2-dd6ef3f2e8cd",
   "metadata": {},
   "outputs": [
    {
     "name": "stdout",
     "output_type": "stream",
     "text": [
      "[1, 2, 3, 4, 5]\n",
      "(12, 34, 56)\n",
      "{12: 'dsa', 31: 'data science', 2: 'java'}\n"
     ]
    }
   ],
   "source": [
    "for  i in d5.values():\n",
    "    print(i)"
   ]
  },
  {
   "cell_type": "code",
   "execution_count": 58,
   "id": "163a78c3-46ee-4ac1-bf49-4b0a769329b6",
   "metadata": {},
   "outputs": [
    {
     "data": {
      "text/plain": [
       "{'num': [1, 2, 3, 4, 5],\n",
       " 'assingment': (12, 34, 56),\n",
       " 'launch date': {12: 'dsa', 31: 'data science', 2: 'java'}}"
      ]
     },
     "execution_count": 58,
     "metadata": {},
     "output_type": "execute_result"
    }
   ],
   "source": [
    "d5"
   ]
  },
  {
   "cell_type": "code",
   "execution_count": 60,
   "id": "f5641af2-7eed-4a2f-a156-faae58955f74",
   "metadata": {},
   "outputs": [
    {
     "name": "stdout",
     "output_type": "stream",
     "text": [
      "['num', [1, 2, 3, 4, 5]]\n",
      "['assingment', (12, 34, 56)]\n",
      "['launch date', {12: 'dsa', 31: 'data science', 2: 'java'}]\n"
     ]
    }
   ],
   "source": [
    "for i in d5.items():\n",
    "    print(list(i))"
   ]
  },
  {
   "cell_type": "code",
   "execution_count": null,
   "id": "438fc8cb-b5f8-43c4-8835-3dd569929f2c",
   "metadata": {},
   "outputs": [],
   "source": []
  }
 ],
 "metadata": {
  "kernelspec": {
   "display_name": "Python 3 (ipykernel)",
   "language": "python",
   "name": "python3"
  },
  "language_info": {
   "codemirror_mode": {
    "name": "ipython",
    "version": 3
   },
   "file_extension": ".py",
   "mimetype": "text/x-python",
   "name": "python",
   "nbconvert_exporter": "python",
   "pygments_lexer": "ipython3",
   "version": "3.10.8"
  }
 },
 "nbformat": 4,
 "nbformat_minor": 5
}
